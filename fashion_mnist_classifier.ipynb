{
 "cells": [
  {
   "cell_type": "code",
   "execution_count": 1,
   "id": "6715d40e-e828-4ab4-a9ac-7571dbcf82a8",
   "metadata": {},
   "outputs": [],
   "source": [
    "import matplotlib.pyplot as plt\n",
    "import torch\n",
    "from torch import nn, optim\n",
    "from torch.utils.data import DataLoader\n",
    "from torchvision import datasets, transforms"
   ]
  },
  {
   "cell_type": "code",
   "execution_count": 2,
   "id": "fc169d6a-a566-454b-bb78-40d9e4c283d2",
   "metadata": {},
   "outputs": [],
   "source": [
    "# Задаем параметры\n",
    "batch_size = 64"
   ]
  },
  {
   "cell_type": "code",
   "execution_count": 3,
   "id": "9488458c-005b-4f37-8249-2f60691590d0",
   "metadata": {},
   "outputs": [],
   "source": [
    "# Применение преобразований к данным\n",
    "transform = transforms.Compose(\n",
    "    [\n",
    "        transforms.RandomHorizontalFlip(),\n",
    "        transforms.RandomRotation(10),\n",
    "        transforms.ToTensor(),\n",
    "    ]\n",
    ")"
   ]
  },
  {
   "cell_type": "code",
   "execution_count": 4,
   "id": "d5793f06-7273-4dca-82a8-be3cf5a6606b",
   "metadata": {},
   "outputs": [],
   "source": [
    "# Загрузка тренировочного и тестового данных\n",
    "train_dataset = datasets.FashionMNIST(\n",
    "    root=\"./data\", train=True, download=True, transform=transform\n",
    ")\n",
    "test_dataset = datasets.FashionMNIST(\n",
    "    root=\"./data\", train=False, download=True, transform=transform\n",
    ")\n",
    "\n",
    "train_loader = DataLoader(train_dataset, batch_size=batch_size, shuffle=True)\n",
    "test_loader = DataLoader(test_dataset, batch_size=batch_size, shuffle=False)"
   ]
  },
  {
   "cell_type": "code",
   "execution_count": 5,
   "id": "94d2b35e-5a97-455c-8397-1f17632c41cc",
   "metadata": {},
   "outputs": [
    {
     "data": {
      "image/png": "[encoded data removed]",
      "text/plain": [
       "<Figure size 1000x200 with 5 Axes>"
      ]
     },
     "metadata": {},
     "output_type": "display_data"
    }
   ],
   "source": [
    "# Загрузка нескольких изображений и их меток\n",
    "num_samples = 5  # Количество изображений для отображения\n",
    "images = []\n",
    "labels = []\n",
    "\n",
    "for i in range(num_samples):\n",
    "    img, label = train_dataset[i]  # Получите i-ый элемент из датасета\n",
    "    images.append(img)  # Добавьте изображение в список\n",
    "    labels.append(label)  # Добавьте метку в список\n",
    "\n",
    "# Визуализация изображений\n",
    "plt.figure(figsize=(10, 2))\n",
    "for i in range(num_samples):\n",
    "    plt.subplot(1, num_samples, i + 1)\n",
    "    plt.imshow(images[i].squeeze(), cmap='gray')  # Изображение может быть в формате (1, 28, 28)\n",
    "    plt.title(f'Label: {labels[i]}')\n",
    "    plt.axis('off')  # Уберите оси\n",
    "plt.show()"
   ]
  },
  {
   "cell_type": "code",
   "execution_count": 6,
   "id": "dca2a3e9-1ba1-4e46-b508-6b2b99ac4b94",
   "metadata": {},
   "outputs": [],
   "source": [
    "class SimpleNN(nn.Module):\n",
    "    def __init__(self):\n",
    "        super(SimpleNN, self).__init__()\n",
    "        self.fc1 = nn.Linear(28 * 28, 128)  # Первый полносвязный слой\n",
    "        self.fc2 = nn.Linear(128, 64)  # Второй полносвязный слой\n",
    "        self.fc3 = nn.Linear(64, 10)  # Выходной слой для 10 классов\n",
    "        self.relu = nn.ReLU()  # Активация ReLU\n",
    "        self.dropout = nn.Dropout(0.2)  # Регуляризация Dropout\n",
    "\n",
    "    def forward(self, x):\n",
    "        x = x.view(x.size(0), -1)  # Преобразуем из 2D в 1D\n",
    "        x = self.relu(self.fc1(x))\n",
    "        x = self.dropout(x)\n",
    "        x = self.relu(self.fc2(x))\n",
    "        x = self.dropout(x)\n",
    "        x = self.fc3(x)\n",
    "        return x"
   ]
  },
  {
   "cell_type": "code",
   "execution_count": 7,
   "id": "423ce07f-043c-4d1e-8f92-40cf2b5d8f26",
   "metadata": {},
   "outputs": [],
   "source": [
    "# Создаем экзмепляр модели\n",
    "model = SimpleNN()\n",
    "criterion = nn.CrossEntropyLoss()  # Функция потерь\n",
    "optimizer = optim.Adam(model.parameters(), lr=0.001)  # Оптимизатор Adam\n",
    "\n",
    "\n",
    "def train(model, train_loader, criterion, optimizer, epochs=5):\n",
    "    model.train()\n",
    "    for epoch in range(epochs):\n",
    "        for images, labels in train_loader:\n",
    "            optimizer.zero_grad()  # Обнуляем градиенты\n",
    "            output = model(images)  # Прямой проход\n",
    "            loss = criterion(output, labels)  # Вычисление потерь\n",
    "            loss.backward()  # Обратный проход\n",
    "            optimizer.step()  # Обновление параметров\n",
    "\n",
    "        print(f\"Epoch {epoch + 1}, Loss: {loss.item():.4f}\")"
   ]
  },
  {
   "cell_type": "code",
   "execution_count": 8,
   "id": "41436d2a-699f-49af-b276-f5a5b7ff0550",
   "metadata": {},
   "outputs": [
    {
     "name": "stdout",
     "output_type": "stream",
     "text": [
      "Epoch 1, Loss: 0.3761\n",
      "Epoch 2, Loss: 0.3659\n",
      "Epoch 3, Loss: 0.2755\n",
      "Epoch 4, Loss: 0.4671\n",
      "Epoch 5, Loss: 0.4938\n",
      "Epoch 6, Loss: 0.3375\n",
      "Epoch 7, Loss: 0.6689\n",
      "Epoch 8, Loss: 0.3340\n",
      "Epoch 9, Loss: 0.2336\n",
      "Epoch 10, Loss: 0.5573\n"
     ]
    }
   ],
   "source": [
    "# Обучаем модель\n",
    "train(model, train_loader, criterion, optimizer, epochs=10)"
   ]
  },
  {
   "cell_type": "code",
   "execution_count": 9,
   "id": "e198a808-a754-4930-81c6-6a2389efd6e7",
   "metadata": {},
   "outputs": [],
   "source": [
    "def test(model, test_loader):\n",
    "    model.eval()  # Переключаем модель в режим оценки\n",
    "    correct = 0\n",
    "    total = 0\n",
    "    with torch.no_grad():\n",
    "        for images, labels in test_loader:\n",
    "            outputs = model(images)\n",
    "            _, predicted = torch.max(outputs.data, 1)\n",
    "            total += labels.size(0)\n",
    "            correct += (predicted == labels).sum().item()\n",
    "\n",
    "    accuracy = 100 * correct / total\n",
    "    print(f\"Точность на тестовой выборке: {accuracy:.2f}%\")"
   ]
  },
  {
   "cell_type": "code",
   "execution_count": 10,
   "id": "d9441dab-65bd-42fd-9400-f91abf54bc6e",
   "metadata": {},
   "outputs": [
    {
     "name": "stdout",
     "output_type": "stream",
     "text": [
      "Точность на тестовой выборке: 85.99%\n"
     ]
    }
   ],
   "source": [
    "# Проверяем качество\n",
    "test(model, test_loader)"
   ]
  }
 ],
 "metadata": {
  "kernelspec": {
   "display_name": "Python 3 (ipykernel)",
   "language": "python",
   "name": "python3"
  },
  "language_info": {
   "codemirror_mode": {
    "name": "ipython",
    "version": 3
   },
   "file_extension": ".py",
   "mimetype": "text/x-python",
   "name": "python",
   "nbconvert_exporter": "python",
   "pygments_lexer": "ipython3",
   "version": "3.11.0rc1"
  }
 },
 "nbformat": 4,
 "nbformat_minor": 5
}
